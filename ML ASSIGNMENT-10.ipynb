{
 "cells": [
  {
   "cell_type": "markdown",
   "id": "19cde6e0",
   "metadata": {},
   "source": [
    "1. Define the Bayesian interpretation of probability.\n",
    "2. Define probability of a union of two events with equation.\n",
    "3. What is joint probability? What is its formula?\n",
    "4. What is chain rule of probability?\n",
    "5.What is conditional probability means? What is the formula of it?\n",
    "6. What are continuous random variables?\n",
    "7. What are Bernoulli distributions? What is the formula of it?\n",
    "8. What is binomial distribution? What is the formula?\n",
    "9. What is Poisson distribution? What is the formula?\n",
    "10. Define covariance.\n",
    "11. Define correlation\n",
    "12. Define sampling with replacement. Give example.\n",
    "13. What is sampling without replacement? Give example.\n",
    "14. What is hypothesis? Give example."
   ]
  },
  {
   "cell_type": "markdown",
   "id": "4bec45c9",
   "metadata": {},
   "source": [
    "1.Bayesian probability allows us to update our beliefs as we get new data, using Bayes’ theorem. This theorem tells us how to combine our prior probability (what we believed before) with the likelihood (how likely the data is given our hypothesis) to get the posterior probability (what we believe after). For example, suppose we have a coin that we suspect is biased, and we want to know the probability that it lands on heads. A Bayesian would assign a prior probability to this hypothesis, such as 0.6, based on their initial guess. Then, they would flip the coin several times and observe the outcomes. Based on the data, they would calculate the likelihood of getting those outcomes if the coin was indeed biased with a 0.6 probability of heads. Finally, they would use Bayes’ theorem to update their prior probability with the likelihood, and get a posterior probability that reflects their updated belief. "
   ]
  },
  {
   "cell_type": "markdown",
   "id": "16fc3dc1",
   "metadata": {},
   "source": [
    "2.The probability of the union of two events, denoted by P(A ∪ B), is the probability that at least one of the two events occurs. It is calculated as:\n",
    "P(A∪B)=P(A)+P(B)−P(A∩B)\n",
    "where P(A) is the probability of event A occurring, P(B) is the probability of event B occurring, and P(A ∩ B) is the probability of both events A and B occurring together"
   ]
  },
  {
   "cell_type": "markdown",
   "id": "930ce73e",
   "metadata": {},
   "source": [
    "3.In joint probability both events occur at the same time."
   ]
  },
  {
   "cell_type": "markdown",
   "id": "5fe89a84",
   "metadata": {},
   "source": [
    "4.The chain rule of probability is a formula that allows you to calculate the probability of a combination of events, using the conditional probabilities of each event"
   ]
  },
  {
   "cell_type": "markdown",
   "id": "14634557",
   "metadata": {},
   "source": [
    "5.Conditional probability is the probability of an event happening, given that another event has already happened."
   ]
  },
  {
   "cell_type": "markdown",
   "id": "be5360b2",
   "metadata": {},
   "source": [
    "6.continuous random variable are numerical values having no range."
   ]
  },
  {
   "cell_type": "markdown",
   "id": "ec7efdf3",
   "metadata": {},
   "source": [
    "7.A Bernoulli distribution is a discrete probability distribution that models a binary outcome for one trial. For example, a coin toss can be modeled by a Bernoulli distribution, where the random variable is 1 for heads and 0 for tails."
   ]
  },
  {
   "cell_type": "markdown",
   "id": "135b4c4c",
   "metadata": {},
   "source": [
    "8.A binomial distribution is a type of probability distribution that has only two possible outcomes: success or failure. It is used to model situations where the outcome of each trial is independent and has the same probability of success. For example, tossing a coin, answering a yes/no question, or passing/failing a test are binomial experiments."
   ]
  },
  {
   "cell_type": "markdown",
   "id": "5c135210",
   "metadata": {},
   "source": [
    "9.A Poisson distribution is a type of probability distribution that describes the number of events that occur in a fixed interval of time or space. The events must be independent and random, and have a constant average rate of occurrence. The formula for the Poisson distribution is:\n",
    "f(x)=x!e−λλx​\n",
    "where x is the number of events, λ is the average rate of events, and e is the base of the natural logarithm (approximately 2.71828). The mean and the variance of the Poisson distribution are both equal to λ"
   ]
  },
  {
   "cell_type": "markdown",
   "id": "ccacd96b",
   "metadata": {},
   "source": [
    "10.The property of a function of retaining its form when the variables are linearly transformed."
   ]
  },
  {
   "cell_type": "markdown",
   "id": "618453f8",
   "metadata": {},
   "source": [
    "12.Sampling with replacement is a method of selecting a sample from a population, where each element of the population can be chosen more than once. This means that the probability of selecting any element remains the same for each draw. Sampling with replacement is often used in statistical procedures such as bootstrapping and bagging"
   ]
  },
  {
   "cell_type": "markdown",
   "id": "677167b0",
   "metadata": {},
   "source": [
    "13.ampling without replacement is a method of selecting a random sample from a population, where each element of the population can be selected at most once. For example, if you have a deck of 52 cards and you draw 5 cards without putting them back, you are sampling without replacemen"
   ]
  },
  {
   "cell_type": "markdown",
   "id": "7a77a5d4",
   "metadata": {},
   "source": [
    "14.A hypothesis is a statement that can be tested by scientific research. It is a tentative answer to a research question that has not yet been tested. A hypothesis usually proposes a relationship between two or more variables. For example, a hypothesis could be: \"Daily apple consumption leads to fewer doctor’s visits.\""
   ]
  },
  {
   "cell_type": "markdown",
   "id": "2c10c69e",
   "metadata": {},
   "source": []
  }
 ],
 "metadata": {
  "kernelspec": {
   "display_name": "Python 3 (ipykernel)",
   "language": "python",
   "name": "python3"
  },
  "language_info": {
   "codemirror_mode": {
    "name": "ipython",
    "version": 3
   },
   "file_extension": ".py",
   "mimetype": "text/x-python",
   "name": "python",
   "nbconvert_exporter": "python",
   "pygments_lexer": "ipython3",
   "version": "3.9.12"
  }
 },
 "nbformat": 4,
 "nbformat_minor": 5
}
